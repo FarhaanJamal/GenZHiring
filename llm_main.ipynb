{
 "cells": [
  {
   "cell_type": "code",
   "execution_count": 13,
   "metadata": {},
   "outputs": [],
   "source": [
    "import os\n",
    "from dotenv import load_dotenv\n",
    "\n",
    "load_dotenv()\n",
    "os.environ[\"OPENAI_API_KEY\"] = os.getenv(\"OPENAI_API_KEY\")"
   ]
  },
  {
   "cell_type": "code",
   "execution_count": 15,
   "metadata": {},
   "outputs": [],
   "source": [
    "import openai\n",
    "\n",
    "\n",
    "# conversation_history = []\n",
    "\n",
    "\n",
    "job_role = \"web developer\"\n",
    "\n",
    "job_description = \"Experience: 0-3 years/nSkills: React, HTML, CSS\"\n",
    "\n",
    "\n",
    "def evaluate_resume(prompt, conversation_history):\n",
    "    conversation_history.append({\"role\": \"user\", \"content\": prompt})\n",
    "\n",
    "    full_prompt = \"\\n\".join([message[\"content\"] for message in conversation_history])\n",
    "\n",
    "    response = openai.ChatCompletion.create(\n",
    "        model=\"gpt-3.5-turbo\",\n",
    "        messages=[{\"role\": \"user\", \"content\": full_prompt}],\n",
    "        max_tokens=500,\n",
    "    )\n",
    "\n",
    "    result = response[\"choices\"][0][\"message\"][\"content\"]\n",
    "\n",
    "    conversation_history.append({\"role\": \"system\", \"content\": result})\n",
    "\n",
    "    return conversation_history, result"
   ]
  },
  {
   "cell_type": "code",
   "execution_count": 16,
   "metadata": {},
   "outputs": [],
   "source": [
    "qualities = [\n",
    "    \"Resume Length\",\n",
    "    \"Total Bulleted Points\",\n",
    "    \"Bulleted Point Length\",\n",
    "    \"Action Verbs\",\n",
    "    \"Quantification\",\n",
    "    \"Skills\",\n",
    "    \"Consistency\",\n",
    "    \"Dates Ordering\",\n",
    "    \"Spell Check\",\n",
    "    \"Readability\",\n",
    "]\n",
    "\n",
    "\n",
    "prompts1 = [\n",
    "    f\"Evaluate the following resume for job role: {job_role} with job description: {job_description}:\\n\\n{resume_content}\"\n",
    "]\n",
    "\n",
    "prompts2 = [\n",
    "    f\"Evaluate the following resume for job role: {job_role} with job description: {job_description}:\\n\\n{resume_content}\"\n",
    "]\n",
    "\n",
    "prompts3 = [\n",
    "    f\"Evaluate the following resume for job role: {job_role} with job description: {job_description}:\\n\\n{resume_content}\"\n",
    "]\n",
    "\n",
    "\n",
    "for i in range(len(qualities)):\n",
    "    if i < 4:\n",
    "        prompts1.append(\n",
    "            f\"Provide insights on the {qualities[i]} for the above resume (no points only in paragraphs)\"\n",
    "        )\n",
    "\n",
    "        prompts1.append(\n",
    "            f\"Suggest some modefication on {qualities[i]} to improve the above resume (no points only in paragraphs)\"\n",
    "        )\n",
    "\n",
    "        prompts1.append(\n",
    "            f\"Give a score of 10 for the {qualities[i]} for the above resume (only integer no words)\"\n",
    "        )\n",
    "\n",
    "    elif i < 7:\n",
    "        prompts2.append(\n",
    "            f\"Provide insights on the {qualities[i]} for the above resume (no points only in paragraphs)\"\n",
    "        )\n",
    "\n",
    "        prompts2.append(\n",
    "            f\"Suggest some modefication on {qualities[i]} to improve the above resume (no points only in paragraphs)\"\n",
    "        )\n",
    "\n",
    "        prompts2.append(\n",
    "            f\"Give a score of 10 for the {qualities[i]} for the above resume (only integer no words)\"\n",
    "        )\n",
    "\n",
    "    else:\n",
    "        prompts3.append(\n",
    "            f\"Provide insights on the {qualities[i]} for the above resume (no points only in paragraphs)\"\n",
    "        )\n",
    "\n",
    "        prompts3.append(\n",
    "            f\"Suggest some modefication on {qualities[i]} to improve the above resume (no points only in paragraphs)\"\n",
    "        )\n",
    "\n",
    "        prompts3.append(\n",
    "            f\"Give a score of 10 for the {qualities[i]} for the above resume (only integer no words)\"\n",
    "        )\n",
    "\n",
    "\n",
    "# prompts.append(\"Suggest some overall modefication to improve the resume\")"
   ]
  },
  {
   "cell_type": "code",
   "execution_count": 17,
   "metadata": {},
   "outputs": [],
   "source": [
    "results1, conversation_history = [], []\n",
    "for prompt in prompts1:\n",
    "    conversation_history, result = evaluate_resume(prompt, conversation_history)\n",
    "    results1.append(result)"
   ]
  },
  {
   "cell_type": "code",
   "execution_count": 18,
   "metadata": {},
   "outputs": [],
   "source": [
    "results2, conversation_history = [], []\n",
    "for prompt in prompts2:\n",
    "    conversation_history, result = evaluate_resume(prompt, conversation_history)\n",
    "    results2.append(result)"
   ]
  },
  {
   "cell_type": "code",
   "execution_count": 27,
   "metadata": {},
   "outputs": [],
   "source": [
    "results3, conversation_history = [], []\n",
    "for prompt in prompts3:\n",
    "    conversation_history, result = evaluate_resume(prompt, conversation_history)\n",
    "    results3.append(result)"
   ]
  },
  {
   "cell_type": "code",
   "execution_count": 39,
   "metadata": {},
   "outputs": [
    {
     "name": "stdout",
     "output_type": "stream",
     "text": [
      "10\n"
     ]
    }
   ],
   "source": [
    "results = results1 + results2[1:] + results3[1:]\n",
    "insights, modifications, scores = [], [], []\n",
    "for i in range(1, len(results), 3):\n",
    "    insights.append(results[i])\n",
    "    modifications.append(results[i + 1])\n",
    "    scores.append(int(results[i + 2]))\n",
    "\n",
    "# print(len(scores))"
   ]
  },
  {
   "cell_type": "code",
   "execution_count": 42,
   "metadata": {},
   "outputs": [
    {
     "ename": "TypeError",
     "evalue": "'str' object cannot be interpreted as an integer",
     "output_type": "error",
     "traceback": [
      "\u001b[1;31m---------------------------------------------------------------------------\u001b[0m",
      "\u001b[1;31mTypeError\u001b[0m                                 Traceback (most recent call last)",
      "\u001b[1;32mc:\\Users\\farha\\Desktop\\Farhaan\\Projects\\GenZHiring\\main.ipynb Cell 10\u001b[0m line \u001b[0;36m4\n\u001b[0;32m      <a href='vscode-notebook-cell:/c%3A/Users/farha/Desktop/Farhaan/Projects/GenZHiring/main.ipynb#X15sZmlsZQ%3D%3D?line=1'>2</a>\u001b[0m prompt \u001b[39m=\u001b[39m \u001b[39mf\u001b[39m\u001b[39m\"\u001b[39m\u001b[39mSummarize this:\u001b[39m\u001b[39m\\n\u001b[39;00m\u001b[39m\\n\u001b[39;00m\u001b[39m{\u001b[39;00mmodifications\u001b[39m}\u001b[39;00m\u001b[39m\\n\u001b[39;00m\u001b[39m\\n\u001b[39;00m\u001b[39m(no points only in paragraphs)\u001b[39m\u001b[39m\"\u001b[39m\n\u001b[0;32m      <a href='vscode-notebook-cell:/c%3A/Users/farha/Desktop/Farhaan/Projects/GenZHiring/main.ipynb#X15sZmlsZQ%3D%3D?line=2'>3</a>\u001b[0m _, result \u001b[39m=\u001b[39m evaluate_resume(prompt, conversation_history)\n\u001b[1;32m----> <a href='vscode-notebook-cell:/c%3A/Users/farha/Desktop/Farhaan/Projects/GenZHiring/main.ipynb#X15sZmlsZQ%3D%3D?line=3'>4</a>\u001b[0m results\u001b[39m.\u001b[39;49minsert(result, \u001b[39m1\u001b[39;49m)\n\u001b[0;32m      <a href='vscode-notebook-cell:/c%3A/Users/farha/Desktop/Farhaan/Projects/GenZHiring/main.ipynb#X15sZmlsZQ%3D%3D?line=4'>5</a>\u001b[0m results\u001b[39m.\u001b[39minsert(\u001b[39msum\u001b[39m(scores), \u001b[39m2\u001b[39m)\n",
      "\u001b[1;31mTypeError\u001b[0m: 'str' object cannot be interpreted as an integer"
     ]
    }
   ],
   "source": [
    "conversation_history = []\n",
    "prompt = f\"Summarize this:\\n\\n{modifications}\\n\\n(no points only in paragraphs)\"\n",
    "_, result = evaluate_resume(prompt, conversation_history)\n",
    "results.insert(1, result)\n",
    "results.insert(sum(scores), 2)"
   ]
  }
 ],
 "metadata": {
  "kernelspec": {
   "display_name": "testenv",
   "language": "python",
   "name": "python3"
  },
  "language_info": {
   "codemirror_mode": {
    "name": "ipython",
    "version": 3
   },
   "file_extension": ".py",
   "mimetype": "text/x-python",
   "name": "python",
   "nbconvert_exporter": "python",
   "pygments_lexer": "ipython3",
   "version": "3.10.13"
  },
  "orig_nbformat": 4
 },
 "nbformat": 4,
 "nbformat_minor": 2
}
